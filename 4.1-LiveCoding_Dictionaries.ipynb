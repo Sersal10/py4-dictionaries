{
 "cells": [
  {
   "cell_type": "markdown",
   "id": "5e8cd5c7",
   "metadata": {},
   "source": [
    "# LiveCoding: Python Dictionaries\n",
    "\n",
    "by [Luciano Gabbanelli](https://www.linkedin.com/in/luciano-gabbanelli-ph-d-75302218)"
   ]
  },
  {
   "cell_type": "markdown",
   "id": "912d31e4",
   "metadata": {},
   "source": [
    "<img width=80 src=\"https://media.giphy.com/media/KAq5w47R9rmTuvWOWa/giphy.gif\">\n",
    "\n",
    "<img width=150 src=\"Images/Assembler.png\">\n",
    "\n",
    "***"
   ]
  },
  {
   "cell_type": "markdown",
   "id": "e83e6297",
   "metadata": {},
   "source": [
    "## List are not always the best option\n",
    "\n",
    "Imagine that you want to store information about a person. If you use a list, it would have this structure:"
   ]
  },
  {
   "cell_type": "code",
   "execution_count": null,
   "id": "90f9bf65",
   "metadata": {},
   "outputs": [],
   "source": [
    "Lucho = [38, 'Luciano', 'Gabbanelli', 'Buenos Aires', 'physicist', 1.69, False, ['Eze', 'Dami', 'Nadia']]"
   ]
  },
  {
   "cell_type": "markdown",
   "id": "302c887c",
   "metadata": {},
   "source": [
    "- Print the list"
   ]
  },
  {
   "cell_type": "code",
   "execution_count": null,
   "id": "baf190a7",
   "metadata": {},
   "outputs": [],
   "source": [
    "# Type the code here:\n",
    "\n"
   ]
  },
  {
   "cell_type": "markdown",
   "id": "f04a77ef",
   "metadata": {},
   "source": [
    "Clearly, a list is not the better option for this type of data. It is difficult to manipulate, idexes change if I change the elements (remember `.append()`, `.insert()` or `extend()` methods)"
   ]
  },
  {
   "cell_type": "markdown",
   "id": "40e4858a",
   "metadata": {},
   "source": [
    "## Dictionaries\n",
    "\n",
    "Dictionaries store data values in key(properties):value pairs.\n",
    "\n",
    "A dictionary is a collection which is ordered<a name=\"cite_ref-1\"></a>[<sup>[1]</sup>](#cite_note-1), changeable<a name=\"cite_ref-2\"></a>[<sup>[2]</sup>](#cite_note-2) and do not allow duplicates<a name=\"cite_ref-3\"></a>[<sup>[3]</sup>](#cite_note-3).\n",
    "\n",
    "Dictionaries are written with curly brackets, `{...}`.\n",
    "\n",
    "Values can store any type of data: strings, floats, lists, tuples, etc., and even dictionaries. The keys are also not required to be strings only.\n",
    "\n",
    "\n",
    "**Dictionaries makes thigs easier :)**\n",
    "\n",
    "*Bot not always! When choosing a collection type, it is useful to understand the properties of that type. Choosing the right type for a particular data set could mean an increase in efficiency or security.*\n",
    "\n",
    "<br>\n",
    "<br>\n",
    "\n",
    "<a name=\"cite_note-1\"></a> [[1]](#cite_ref-1) Only from version 3.7 onwards, dictionaries' items have a defined order, and that order will not change.\n",
    "\n",
    "<a name=\"cite_note-2\"></a> [[2]](#cite_ref-2) Ee can change, add or remove items after the dictionary has been created.\n",
    "\n",
    "<a name=\"cite_note-3\"></a> [[3]](#cite_ref-3) Dictionaries cannot have two items with the same key.\n",
    "\n"
   ]
  },
  {
   "cell_type": "markdown",
   "id": "f8a733df",
   "metadata": {},
   "source": [
    "- Create a dictionary for the previous data (we can even define nested dictionaries :D):"
   ]
  },
  {
   "cell_type": "code",
   "execution_count": null,
   "id": "3906afc6",
   "metadata": {},
   "outputs": [],
   "source": [
    "# Type the code here:\n",
    "\n"
   ]
  },
  {
   "cell_type": "markdown",
   "id": "55bc510f",
   "metadata": {},
   "source": [
    "### Dictionary length\n",
    "\n",
    "`len()` returns how many items a dictionary has."
   ]
  },
  {
   "cell_type": "code",
   "execution_count": null,
   "id": "50dad7ff",
   "metadata": {},
   "outputs": [],
   "source": [
    "# Type some code here:\n",
    "\n"
   ]
  },
  {
   "cell_type": "markdown",
   "id": "55f78601",
   "metadata": {},
   "source": [
    "### Accessing items\n",
    "\n",
    "- Access an element of the previous dictionary:"
   ]
  },
  {
   "cell_type": "code",
   "execution_count": null,
   "id": "2d0fbd3a",
   "metadata": {},
   "outputs": [],
   "source": [
    "# Type some code here:\n",
    "\n"
   ]
  },
  {
   "cell_type": "markdown",
   "id": "a85a9299",
   "metadata": {},
   "source": [
    "To access an item in a dictionary, you must refer to its key name, enclosed in square brackets or by meand of the `get()` method:"
   ]
  },
  {
   "cell_type": "code",
   "execution_count": null,
   "id": "eb447600",
   "metadata": {},
   "outputs": [],
   "source": [
    "# Type some code here:\n",
    "\n"
   ]
  },
  {
   "cell_type": "markdown",
   "id": "a3fbe7e2",
   "metadata": {},
   "source": [
    "### Obtain all keys\n",
    "\n",
    "The `keys()` method will return a list of all the keys in a dictionary (you can store the list in a variable if you wish).\n",
    "\n",
    "The list of the keys gives a view of the features of a dictionary; any changes done to the dictionary will be reflected in the keys list."
   ]
  },
  {
   "cell_type": "code",
   "execution_count": null,
   "id": "5c61c12a",
   "metadata": {},
   "outputs": [],
   "source": [
    "# Type some code here:\n",
    "\n"
   ]
  },
  {
   "cell_type": "markdown",
   "id": "7e0ca1f3",
   "metadata": {},
   "source": [
    "- Redefine the `'name'` key to include both first and last name, and then check how the keys have been modified:"
   ]
  },
  {
   "cell_type": "code",
   "execution_count": null,
   "id": "3dbc38ff",
   "metadata": {},
   "outputs": [],
   "source": [
    "# Type some code here:\n",
    "\n"
   ]
  },
  {
   "cell_type": "markdown",
   "id": "b4786a23",
   "metadata": {},
   "source": [
    "### Obtain all values\n",
    "\n",
    "The `values()` method provides a list with all the values in the dictionary.\n",
    "\n",
    "If values change, they will be reflected in the values list."
   ]
  },
  {
   "cell_type": "code",
   "execution_count": null,
   "id": "5f489a4a",
   "metadata": {},
   "outputs": [],
   "source": [
    "# Type some code here:\n",
    "\n"
   ]
  },
  {
   "cell_type": "markdown",
   "id": "2a0d10d6",
   "metadata": {},
   "source": [
    "### Obtain all items\n",
    "\n",
    "The `item()` method gives keys and values as 2-dimensional tuples in a list. This method is useful to iterate through pairs.\n",
    "\n",
    "Changes in the dictionary will apply to items as well."
   ]
  },
  {
   "cell_type": "code",
   "execution_count": null,
   "id": "e9fb7853",
   "metadata": {},
   "outputs": [],
   "source": [
    "# Type some code here:\n",
    "\n"
   ]
  },
  {
   "cell_type": "markdown",
   "id": "2e47fa34",
   "metadata": {},
   "source": [
    "### Check if key exists\n",
    "\n",
    "To determine if a key is present in a dictionary, use the membership operator `in`."
   ]
  },
  {
   "cell_type": "code",
   "execution_count": null,
   "id": "58462939",
   "metadata": {},
   "outputs": [],
   "source": [
    "# Type some code here:\n",
    "\n"
   ]
  },
  {
   "cell_type": "markdown",
   "id": "66c5977a",
   "metadata": {},
   "source": [
    "### Change values\n",
    "\n",
    "Besides by referring to a key name \n",
    "\n",
    "> Sintax: `dictionary_name['key_name'] = new_value'`,\n",
    "\n",
    "<br>\n",
    "\n",
    "one can use the `update()` method to add or change a pair kay:value.\n",
    "\n",
    "> Sintax: `dictionary_name.update({'key_name':new_value})`"
   ]
  },
  {
   "cell_type": "code",
   "execution_count": null,
   "id": "5dd7fe52",
   "metadata": {},
   "outputs": [],
   "source": [
    "# Type some code here:\n",
    "\n"
   ]
  },
  {
   "cell_type": "markdown",
   "id": "51d1428c",
   "metadata": {},
   "source": [
    "- Add a item inside a dictionary which is inside another dictionary"
   ]
  },
  {
   "cell_type": "code",
   "execution_count": null,
   "id": "f7fba696",
   "metadata": {},
   "outputs": [],
   "source": [
    "# Type the code here:\n",
    "\n"
   ]
  },
  {
   "cell_type": "markdown",
   "id": "72834c1c",
   "metadata": {},
   "source": [
    "### Remove items\n",
    "\n",
    "The `pop()` method removes a item with the specified key name.\n",
    "\n",
    "> Sintax: `dictionary_name.pop('key_name')`\n",
    "\n",
    "<br>\n",
    "    \n",
    "The `popitem()` method removes the last inserted item.\n",
    "\n",
    "> Sintax: `dictionary_name.popitem()`\n",
    "\n",
    "<br>\n",
    "\n",
    "The `del` keyword removes the item with the specified key name.\n",
    "\n",
    "> Sintax: `del dictionary_name['key_name']`\n",
    "\n",
    "This method can also delete the dictionary completely.\n",
    "\n",
    "> Sintax: `del dictionary_name`\n",
    "\n",
    "<br>\n",
    "\n",
    "The `clear()` method empties the dictionary.\n",
    "\n",
    "> Sintax: `dictionary_name.clear()`"
   ]
  },
  {
   "cell_type": "code",
   "execution_count": null,
   "id": "7584927b",
   "metadata": {},
   "outputs": [],
   "source": [
    "# Type the code here:\n",
    "\n"
   ]
  },
  {
   "cell_type": "markdown",
   "id": "c7538677",
   "metadata": {},
   "source": [
    "### Sort a dictionary"
   ]
  },
  {
   "cell_type": "markdown",
   "id": "87071785",
   "metadata": {},
   "source": [
    "Some functions act on any iterable, as we have already seen for lists. Recall the difference between the `reverse()` method and the `reversed()` function.\n",
    "\n",
    "If you want to sort a dictionary, you can use the `sorted()` function. However, the `sorted()` function returns a sorted list of the specified iterable object. \n",
    "\n",
    "> Syntax: `sorted(iterable, key=key, reverse=True|False)`\n",
    ">\n",
    "> `iterable`: the sequence to sort, a list, a dictionary, a tuple, etc.\n",
    ">\n",
    "> `key`: a function to execute to decide the order. Default is None. Optional.\n",
    ">\n",
    "> `reverse`: a boolean. False will sort ascending, True will sort descending. Default is False. Optional.\n",
    "\n",
    "Strings are sorted alphabetically, and numbers are sorted numerically.\n",
    "\n",
    "**Note:** You cannot sort a list that contains BOTH string values AND numeric values.\n",
    "\n",
    "**Task for you:** Do you see the difference between the `sort()` method seen in the previous notebook and the `sorted()` function? If the answer is no, check it out.\n",
    "\n",
    "**Task for you:** How does the `sorted()` function work against strings with uppercase and lowercase?\n",
    "\n",
    "- Sort the `people` dictionary:"
   ]
  },
  {
   "cell_type": "code",
   "execution_count": null,
   "id": "dcde0e01",
   "metadata": {},
   "outputs": [],
   "source": [
    "# Type the code here:\n",
    "\n"
   ]
  },
  {
   "cell_type": "markdown",
   "id": "41866535",
   "metadata": {},
   "source": [
    "**Task:** Sort the `people` dictionary by its values. As you have seen in the previous task, the `sorted()` function does not work for all types of objects at once. Python does not understand how to compare a number and a string. Change the value types so you can sort the `people` dictionary. If there is no other way, you can delete the entry causing problems."
   ]
  },
  {
   "cell_type": "code",
   "execution_count": null,
   "id": "c68b4446",
   "metadata": {},
   "outputs": [],
   "source": [
    "# Type the code here:\n",
    "\n"
   ]
  },
  {
   "cell_type": "markdown",
   "id": "1d4781f3",
   "metadata": {},
   "source": [
    "## Loop through a dictionary\n",
    "\n",
    "A `for` loop can return the keys of the dictionary."
   ]
  },
  {
   "cell_type": "code",
   "execution_count": null,
   "id": "a8a3e99e",
   "metadata": {},
   "outputs": [],
   "source": [
    "# Type the code here:\n",
    "\n"
   ]
  },
  {
   "cell_type": "markdown",
   "id": "20803622",
   "metadata": {},
   "source": [
    "**Tasks for you:** \n",
    "- create a `for` loop to iterate over values (the `values()` method is usefull).\n",
    "- create another `for` loop to iterate over the keys, but in a different way than before."
   ]
  },
  {
   "cell_type": "code",
   "execution_count": null,
   "id": "db2f6004",
   "metadata": {},
   "outputs": [],
   "source": [
    "# Type the code here:\n",
    "\n"
   ]
  },
  {
   "cell_type": "markdown",
   "id": "56b3a797",
   "metadata": {},
   "source": [
    "- We can also loop through both keys and values, by using the `items()` method:"
   ]
  },
  {
   "cell_type": "code",
   "execution_count": null,
   "id": "701947ab",
   "metadata": {
    "scrolled": true
   },
   "outputs": [],
   "source": [
    "# Type the code here:\n",
    "\n"
   ]
  },
  {
   "cell_type": "markdown",
   "id": "239f1ee7",
   "metadata": {},
   "source": [
    "**Tasks for you:** \n",
    "- [Here](https://www.w3schools.com/python/python_dictionaries_copy.asp) you can find two methods to copy a dictionary. Try them!\n",
    "\n",
    "\n",
    "- And [here](https://www.w3schools.com/python/python_dictionaries_nested.asp), a discusion regarding nested dictionaries.\n",
    "\n",
    "\n",
    "- Create an example, or use the one above, to iterate over a subdictionary within a dictionary. For example, iterate over the `occupation` dictionary, which is inside the `people` dictionary. Find its keys and values.\n",
    "\n",
    "\n",
    "- In [this link](https://www.w3schools.com/python/python_dictionaries_methods.asp), you have some dictionary methods.\n",
    "\n",
    "\n",
    "Have fun!"
   ]
  },
  {
   "cell_type": "code",
   "execution_count": null,
   "id": "448dbe12",
   "metadata": {},
   "outputs": [],
   "source": []
  }
 ],
 "metadata": {
  "kernelspec": {
   "display_name": "Python 3 (ipykernel)",
   "language": "python",
   "name": "python3"
  },
  "language_info": {
   "codemirror_mode": {
    "name": "ipython",
    "version": 3
   },
   "file_extension": ".py",
   "mimetype": "text/x-python",
   "name": "python",
   "nbconvert_exporter": "python",
   "pygments_lexer": "ipython3",
   "version": "3.9.12"
  },
  "toc": {
   "base_numbering": 1,
   "nav_menu": {},
   "number_sections": true,
   "sideBar": true,
   "skip_h1_title": true,
   "title_cell": "Table of Contents",
   "title_sidebar": "Contents",
   "toc_cell": false,
   "toc_position": {
    "height": "749px",
    "left": "219px",
    "top": "218.125px",
    "width": "259px"
   },
   "toc_section_display": true,
   "toc_window_display": true
  }
 },
 "nbformat": 4,
 "nbformat_minor": 5
}
