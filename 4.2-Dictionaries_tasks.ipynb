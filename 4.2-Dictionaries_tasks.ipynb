{
 "cells": [
  {
   "cell_type": "markdown",
   "id": "413f4c2a",
   "metadata": {},
   "source": [
    "# Dictionaries Task Sheet"
   ]
  },
  {
   "cell_type": "markdown",
   "id": "393fa869",
   "metadata": {},
   "source": [
    "<img width=80 src=\"https://media.giphy.com/media/KAq5w47R9rmTuvWOWa/giphy.gif\">\n",
    "\n",
    "<img width=150 src=\"Images/Assembler.png\">"
   ]
  },
  {
   "cell_type": "markdown",
   "id": "1eeef4db",
   "metadata": {},
   "source": [
    "# Important:\n",
    "\n",
    "- Comment your code explaining what each part does when you consider it.\n",
    "- We are asking about two types of problems. The first type are solved with code cells, and the second with markdown type cells (where the solution must be thought without executing code cells). This will be indicated in each problem.\n",
    "- Always respect the format of the solution and the instructions!"
   ]
  },
  {
   "cell_type": "markdown",
   "id": "9e90dfa2",
   "metadata": {},
   "source": [
    "# Recommendations:\n",
    "\n",
    "- There are as many ways to solve a problem as there are people in the world. Find yours!\n",
    "- Create as many variables as you want. They cost nothing and are worth it for the sake of clarity.\n",
    "- You can add cells if needed. \n",
    "- Remember that there are two types of cells: code and markdown. Use both. Explanations never hurt.\n",
    "- There are several ways to approach the same problem. Try not to repeat your way of thinking.\n",
    "- If different syntaxes lead to the same result, explore them.\n",
    "- Use internet in a smart way. Don't look at how to solve the problem in its entirety; it is better to learn methods that lead your logical reasoning to the solution.\n",
    "- Once you have a plan to address the problem, try breaking your code into manageable chunks.\n",
    "- Use `print()` and `type()` functions in the middle of your code to understand what your code is actually doing."
   ]
  },
  {
   "cell_type": "markdown",
   "id": "8e40902a",
   "metadata": {},
   "source": [
    "***"
   ]
  },
  {
   "cell_type": "markdown",
   "id": "b0046683",
   "metadata": {},
   "source": [
    "## Dictionary builder\n",
    "\n",
    "Build a dictionary builder algorithm to store the characteristics of a person: first name, second name (if any), first and second surnames, age, gender, email or any key you want. The algorithm will ask you to enter keys as input and will use them as long as the key has not been entered before (remember that dictionaries do not allow duplicates). If the new key already exists, print a message mentioning it and request another one. Next, it will ask you for the values corresponding to the keys. Both fields have to be requested by keyboard. The ingestion concludes by entering a blank key (this message must be attached to the key request so that the user knows how to proceed).\n",
    "\n",
    "**Finally, solve by programming:**\n",
    "\n",
    "- Print the number of elements in the dictionary.\n",
    "\n",
    "- Which word is longer: your first name or your last name? Compare both fields and print a message according to which one has more characters.\n",
    "\n",
    "- Print all the keys, then all the values, and finally the key and value pairs.\n",
    "\n",
    "- Taking advantage of the previous item, iterate over the dictionary, check and print if any value contains the letter \"m\" in upper or lower case.\n",
    "\n",
    "- A login name is required for the person profile: create a new name using the first three letters of your first name and the second and fourth letters of your last name. Create a new entry in the dictionary with this field.\n",
    "\n",
    "- Delete all the elements of the dictionary, but not the dictionary itself."
   ]
  },
  {
   "cell_type": "code",
   "execution_count": null,
   "id": "2d9262ca",
   "metadata": {},
   "outputs": [],
   "source": [
    "# Type the code here:\n",
    "\n"
   ]
  },
  {
   "cell_type": "markdown",
   "id": "f4adda9b",
   "metadata": {},
   "source": [
    "## Operate on items in a dictionary\n",
    "\n",
    "- Write an algorithm to sum all samples in the following dictionary.\n",
    "- And write another one to multiply all the items in a dictionary.\n",
    "- The keys have spaces. Spaces are generally unwanted characters for names. Replace them by underscores, i.e. `_`.\n",
    "\n",
    "*(Solution 1: 416, Solution 2: 20_424_000)*"
   ]
  },
  {
   "cell_type": "code",
   "execution_count": null,
   "id": "0f4f24f5",
   "metadata": {},
   "outputs": [],
   "source": [
    "dict_data = {'sample 1':100, 'sample 2': -37, 'sample 3': 368, 'sample 4': -15}"
   ]
  },
  {
   "cell_type": "code",
   "execution_count": null,
   "id": "91c41bdf",
   "metadata": {},
   "outputs": [],
   "source": [
    "# Type the code here:\n",
    "\n"
   ]
  },
  {
   "cell_type": "markdown",
   "id": "c5730a09",
   "metadata": {},
   "source": [
    "## Inversion of a dictionary. \n",
    "\n",
    "**What if I want the keys to be the values and the values to be the keys?**\n",
    "\n",
    "Your group is conducting an analysis of the population in some of the most populous cities in the world. They have managed to extract the data into a dictionary, but this dictionary is inverted for the purposes for which it is needed. \n",
    "\n",
    "a. How many elements does the dictionary have?\n",
    "\n",
    "b. Make the dictionary have the names of the cities as keys and their population as value.\n",
    "\n",
    "c. Sort the dictionary alphabetically."
   ]
  },
  {
   "cell_type": "code",
   "execution_count": null,
   "id": "c5be312e",
   "metadata": {},
   "outputs": [],
   "source": [
    "city_population = {\n",
    "    37_435_191: 'Tokyo',\n",
    "    21_846_507: 'Sao Paulo',\n",
    "    20_484_965: 'Cairo',\n",
    "    15_636_243: 'Istanbul' ,\n",
    "    15_369_919: 'Buenos Aires',\n",
    "    14_406_059: 'Manila',\n",
    "    12_640_818: 'Moscow',\n",
    "    8_930_002: 'New York City',\n",
    "    6_713_557: 'Madrid',\n",
    "    6_065_354: 'Johannesburg',\n",
    "    5_658_472: 'Barcelona',\n",
    "    4_297_877: 'Rome',\n",
    "    3_452_315: 'Asuncion'\n",
    "}"
   ]
  },
  {
   "cell_type": "code",
   "execution_count": null,
   "id": "e9511c39",
   "metadata": {},
   "outputs": [],
   "source": [
    "# Type the code here:\n",
    "\n"
   ]
  },
  {
   "cell_type": "markdown",
   "id": "8a61f536",
   "metadata": {},
   "source": [
    "## Concatenation of dictionaries\n",
    "\n",
    "Write a Python program to concatenate the following dictionaries to create a new one.\n",
    "\n",
    "`dict_1 = {'module_1' : {'Python', 'R'}, 'module_2': {'R', 'PostgreSQL', 'Databricks'}}`\n",
    "\n",
    "`dict_2 = {'module_3' : {'MongoDB', 'Neo4j', 'Pentaho'}, 'module_4': {'MongoDB', 'Anaconda', 'Amazon SageMaker'}}`\n",
    "\n",
    "`dict_3 = {'module_5' : {'Tensor Flow'}, 'module_6': {'Final project'}}`"
   ]
  },
  {
   "cell_type": "code",
   "execution_count": null,
   "id": "eaf44b57",
   "metadata": {},
   "outputs": [],
   "source": [
    "# Type the code here:\n",
    "\n"
   ]
  },
  {
   "cell_type": "markdown",
   "id": "c1e879da",
   "metadata": {},
   "source": [
    "## Nested dictionaries to catalog satellites in orbit around the Earth"
   ]
  },
  {
   "cell_type": "markdown",
   "id": "003ad88b",
   "metadata": {},
   "source": [
    "On this [web page](https://www.visualcapitalist.com/visualizing-all-of-earths-satellites/), you can be updated on the status of the satellites that surround us on Earth.\n",
    "\n",
    "We are interested in documenting the number of satellites in orbit *per* company. This information can be found in the last table in section \"Every Commercial Satellite in One Table\" of the following article:\n",
    "\n",
    "<br/>\n",
    "\n",
    "<center>\n",
    "https://www.visualcapitalist.com/visualizing-all-of-earths-satellites/\n",
    "</center>\n",
    "\n",
    "<br/>\n",
    "\n",
    "The information is required to be organized in such a way that each sub-dictionary mentioned below is an element of a biger dictionary called `dict_of_satellites`. The name of each sub-dictionary is the key, and its value is the dictionary itself.\n",
    "\n",
    "**The preparation of the sub-dictionaries goes as follows:**\n",
    "\n",
    "**a)** Create a list of tuples where the first element of the tuple is the name of the satellite owner/operator, the second element is the number of satellites it operates, and the third the corresopnging country of operator/owner; e.g.\n",
    "\n",
    "\n",
    "| Operator | Number | Country | |\n",
    "| :-- | :-: | :-: | :-- |\n",
    "| SpaceX | 358 | USA | $\\quad$ This 3 elements belong to the 1st tuple of the list |\n",
    "| Planet Labs, Inc. | 246 | USA | $\\quad$  This 3 elements belong to the 2nd tuple of the list |\n",
    "| Spire Global Inc. | 89 | USA | $\\quad$  3rd tuple |\n",
    "| Iridium Communications, Inc. | 78 | USA | $\\quad$  4th tuple |\n",
    "| OneWeb Satellites | 74 | United Kingdom | $\\quad$  etc. |\n",
    "| SES S.A. | 51 | Luxembourg | $\\quad$  ... |\n",
    "| Intelsat S.A. | 51 | USA | $\\quad$  ... |\n",
    "| ORBCOMM Inc. | 35 | USA | $\\quad$  ... |\n",
    "| DoD/US Air Force | 33 | USA | $\\quad$  ... |\n",
    "| EUTELSAT Americas | 33 | Multinational | $\\quad$  ... |\n",
    "| ... | ... | ... | $\\quad$  ... |\n",
    "| Chang Guang Satellite Technology Co. Ltd.\t| 15 | China |$\\quad$  This 3 elements belong to the last tuple of the list |\n",
    "\n",
    "<br/>\n",
    "\n",
    "Each entry has to be a tuple of a list named `list_of_satellites`. Store the first 15 entries of the mentioned table.\n",
    "\n",
    "You will need to operate on the data entered, so consider the best way to store numbers and names.\n",
    "\n",
    "\n",
    "**b)** Next, write an algorithm that receives the created list of tuples, and returns a dictionary where the keys are the first elements of the tuples (company names) and the values are the second (number of satellites). This will be the `dict_of_companies` dictionary.\n",
    "\n",
    "\n",
    "**c)** \n",
    "The second dictionary (or sub-dictionary) to be created will be called `dict_of_countries`. The corresponding key will be the country of the  owner of the satellites and the value, the total number of satellites belonging to the corresponding country (i.e. the sum of satellites of all the companies of each country).\n",
    "\n",
    "This is: `dict_of_countries = {'USA':358+246+89+...(=922), 'United Kingdom':74+... (=94), 'Luxembourg': 51,`\n",
    "\n",
    "Optimize the addition of the number of satellites per country with control flow operators. \n",
    "\n",
    "\n",
    "**d)** The third and last dictionary is the most difficult. This dictionary will store the country (as key) and all companies belonging to that country (as values). The values must have the following structure: if the country has only one company, this value must be a string. If there is more than one company operating in that country, then the value for that country (as key) will be a list of all corresponding countries. To be explicit and to leave no doubt, the first entries in this dictionary should be:\n",
    "\n",
    "`dict_of_countries_companies = {'USA': ['SpaceX', 'Planet Labs, Inc.', ...], 'United Kingdom': ['OneWeb Satellites',...], 'Luxembourg': 'SES S.A.', ...}`"
   ]
  },
  {
   "cell_type": "code",
   "execution_count": null,
   "id": "3db7798b",
   "metadata": {},
   "outputs": [],
   "source": [
    "# Type the code here:\n",
    "\n"
   ]
  }
 ],
 "metadata": {
  "kernelspec": {
   "display_name": "Python 3 (ipykernel)",
   "language": "python",
   "name": "python3"
  },
  "language_info": {
   "codemirror_mode": {
    "name": "ipython",
    "version": 3
   },
   "file_extension": ".py",
   "mimetype": "text/x-python",
   "name": "python",
   "nbconvert_exporter": "python",
   "pygments_lexer": "ipython3",
   "version": "3.9.12"
  },
  "toc": {
   "base_numbering": 1,
   "nav_menu": {},
   "number_sections": true,
   "sideBar": true,
   "skip_h1_title": true,
   "title_cell": "Table of Contents",
   "title_sidebar": "Contents",
   "toc_cell": false,
   "toc_position": {
    "height": "calc(100% - 180px)",
    "left": "10px",
    "top": "150px",
    "width": "224.844px"
   },
   "toc_section_display": true,
   "toc_window_display": true
  }
 },
 "nbformat": 4,
 "nbformat_minor": 5
}
